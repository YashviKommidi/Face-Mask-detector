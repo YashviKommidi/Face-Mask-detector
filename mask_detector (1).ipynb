{
 "cells": [
  {
   "cell_type": "code",
   "execution_count": 35,
   "metadata": {},
   "outputs": [
    {
     "name": "stdout",
     "output_type": "stream",
     "text": [
      "['with_mask', 'without_mask']\n",
      "[0, 1]\n",
      "{'with_mask': 0, 'without_mask': 1}\n"
     ]
    }
   ],
   "source": [
    "import cv2, os\n",
    "\n",
    "data_path = \"/Volumes/Samsung_T5/Data_Sets/dataset\"\n",
    "categories = os.listdir(data_path)\n",
    "labels = [i for i in range(len(categories))]\n",
    "label_dict = dict(zip(categories, labels))\n",
    "\n",
    "print(categories)\n",
    "print(labels)\n",
    "print(label_dict)"
   ]
  },
  {
   "cell_type": "code",
   "execution_count": 36,
   "metadata": {},
   "outputs": [],
   "source": [
    "def get_image_path(folder_path):\n",
    "#     img = os.listdir('/Volumes/Samsung_T5/Data_Sets/dataset/without_mask')\n",
    "    path = []\n",
    "    img = os.listdir(folder_path)\n",
    "    for i in img:\n",
    "        img_loc = i.split(\"._\")\n",
    "        if len(img_loc) > 1:\n",
    "            pass\n",
    "        else:\n",
    "            path.append(img_loc[len(img_loc) - 1])\n",
    "    return path\n"
   ]
  },
  {
   "cell_type": "code",
   "execution_count": 37,
   "metadata": {},
   "outputs": [
    {
     "name": "stdout",
     "output_type": "stream",
     "text": [
      "/Volumes/Samsung_T5/Data_Sets/dataset/with_mask\n",
      "690\n",
      "/Volumes/Samsung_T5/Data_Sets/dataset/without_mask\n",
      "686\n",
      "Target length: 1376\n",
      "Data Lenght: 1376\n"
     ]
    }
   ],
   "source": [
    "img_size = 100\n",
    "data = []\n",
    "target = []\n",
    "\n",
    "for category in categories:\n",
    "    folder_path = os.path.join(data_path, category)\n",
    "    img_names = get_image_path(folder_path)\n",
    "    print(folder_path)\n",
    "    print(len(img_names))\n",
    "    \n",
    "    for img_name in img_names:\n",
    "        img_path = os.path.join(folder_path, img_name)\n",
    "#         print(img_path)\n",
    "        img = cv2.imread(img_path)\n",
    "        \n",
    "        try:\n",
    "            gray = cv2.cvtColor(img, cv2.COLOR_BGR2GRAY)\n",
    "            resized = cv2.resize(gray, (100, 100))\n",
    "            data.append(resized)\n",
    "            target.append(label_dict[category])\n",
    "        except Exception as e:\n",
    "            print(f'Exception: {e}')\n",
    "            \n",
    "print(f'Target length: {len(target)}')\n",
    "print(f'Data Lenght: {len(data)}')"
   ]
  },
  {
   "cell_type": "code",
   "execution_count": 38,
   "metadata": {},
   "outputs": [],
   "source": [
    "import numpy as np\n",
    "from keras.utils import to_categorical\n",
    "\n",
    "data = np.array(data)/255.0\n",
    "data = np.reshape(data, (data.shape[0], 100, 100, 1))\n",
    "\n",
    "target = np.array(target)\n",
    "new_target = to_categorical(target)"
   ]
  },
  {
   "cell_type": "code",
   "execution_count": 5,
   "metadata": {},
   "outputs": [
    {
     "data": {
      "text/plain": [
       "(1376, 2)"
      ]
     },
     "execution_count": 5,
     "metadata": {},
     "output_type": "execute_result"
    }
   ],
   "source": [
    "new_target.shape"
   ]
  },
  {
   "cell_type": "code",
   "execution_count": 67,
   "metadata": {},
   "outputs": [],
   "source": [
    "np.save('data', data)\n",
    "np.save('target', new_target)"
   ]
  },
  {
   "cell_type": "code",
   "execution_count": 39,
   "metadata": {},
   "outputs": [],
   "source": [
    "import numpy as np\n",
    "\n",
    "data = np.load('data.npy')\n",
    "target = np.load('target.npy')"
   ]
  },
  {
   "cell_type": "markdown",
   "metadata": {},
   "source": [
    "Model for mask detection (CNN)"
   ]
  },
  {
   "cell_type": "code",
   "execution_count": 7,
   "metadata": {},
   "outputs": [],
   "source": [
    "from keras.models import Sequential\n",
    "from keras.layers import Conv2D, Dense, Flatten, MaxPooling2D, Dropout\n",
    "from keras.callbacks import ModelCheckpoint\n",
    "\n",
    "model = Sequential()\n",
    "\n",
    "model.add(Conv2D(200, (3, 3), activation = \"relu\", input_shape = data.shape[1:]))\n",
    "model.add(MaxPooling2D(pool_size = (2, 2)))\n",
    "\n",
    "model.add(Conv2D(100, (3 ,3), activation = \"relu\", ))\n",
    "model.add(MaxPooling2D(pool_size = (2, 2)))\n",
    "\n",
    "model.add(Flatten())\n",
    "model.add(Dropout(0.5))\n",
    "\n",
    "model.add(Dense(50, activation = \"relu\"))\n",
    "model.add(Dense(2, activation = \"softmax\"))\n",
    "\n",
    "model.compile(loss = \"categorical_crossentropy\", optimizer = \"adam\", metrics = ['accuracy'])"
   ]
  },
  {
   "cell_type": "code",
   "execution_count": 70,
   "metadata": {},
   "outputs": [
    {
     "data": {
      "text/plain": [
       "(1376, 2)"
      ]
     },
     "execution_count": 70,
     "metadata": {},
     "output_type": "execute_result"
    }
   ],
   "source": [
    "target.shape"
   ]
  },
  {
   "cell_type": "code",
   "execution_count": 42,
   "metadata": {},
   "outputs": [],
   "source": [
    "from sklearn.model_selection import train_test_split\n",
    "\n",
    "train_data, test_data, train_target, test_target = train_test_split(data, target, test_size = 0.1)"
   ]
  },
  {
   "cell_type": "code",
   "execution_count": 72,
   "metadata": {
    "scrolled": true
   },
   "outputs": [
    {
     "name": "stdout",
     "output_type": "stream",
     "text": [
      "Epoch 1/20\n",
      "31/31 [==============================] - 35s 1s/step - loss: 0.7499 - accuracy: 0.5707 - val_loss: 0.6719 - val_accuracy: 0.5242\n",
      "Epoch 2/20\n",
      "31/31 [==============================] - 34s 1s/step - loss: 0.6292 - accuracy: 0.6303 - val_loss: 0.5156 - val_accuracy: 0.8024\n",
      "Epoch 3/20\n",
      "31/31 [==============================] - 33s 1s/step - loss: 0.5094 - accuracy: 0.7616 - val_loss: 0.3956 - val_accuracy: 0.8468\n",
      "Epoch 4/20\n",
      "31/31 [==============================] - 33s 1s/step - loss: 0.3638 - accuracy: 0.8545 - val_loss: 0.2847 - val_accuracy: 0.8911\n",
      "Epoch 5/20\n",
      "31/31 [==============================] - 33s 1s/step - loss: 0.2409 - accuracy: 0.9232 - val_loss: 0.2367 - val_accuracy: 0.9355\n",
      "Epoch 6/20\n",
      "31/31 [==============================] - 33s 1s/step - loss: 0.1958 - accuracy: 0.9263 - val_loss: 0.2329 - val_accuracy: 0.9032\n",
      "Epoch 7/20\n",
      "31/31 [==============================] - 33s 1s/step - loss: 0.1513 - accuracy: 0.9535 - val_loss: 0.1768 - val_accuracy: 0.9395\n",
      "Epoch 8/20\n",
      "31/31 [==============================] - 34s 1s/step - loss: 0.1128 - accuracy: 0.9576 - val_loss: 0.1508 - val_accuracy: 0.9516\n",
      "Epoch 9/20\n",
      "31/31 [==============================] - 34s 1s/step - loss: 0.0851 - accuracy: 0.9687 - val_loss: 0.1665 - val_accuracy: 0.9355\n",
      "Epoch 10/20\n",
      "31/31 [==============================] - 37s 1s/step - loss: 0.0833 - accuracy: 0.9687 - val_loss: 0.1843 - val_accuracy: 0.9435\n",
      "Epoch 11/20\n",
      "31/31 [==============================] - 33s 1s/step - loss: 0.0639 - accuracy: 0.9798 - val_loss: 0.1685 - val_accuracy: 0.9516\n",
      "Epoch 12/20\n",
      "31/31 [==============================] - 33s 1s/step - loss: 0.0875 - accuracy: 0.9646 - val_loss: 0.2466 - val_accuracy: 0.9073\n",
      "Epoch 13/20\n",
      "31/31 [==============================] - 34s 1s/step - loss: 0.0863 - accuracy: 0.9697 - val_loss: 0.1629 - val_accuracy: 0.9516\n",
      "Epoch 14/20\n",
      "31/31 [==============================] - 33s 1s/step - loss: 0.0571 - accuracy: 0.9808 - val_loss: 0.2074 - val_accuracy: 0.9476\n",
      "Epoch 15/20\n",
      "31/31 [==============================] - 34s 1s/step - loss: 0.0416 - accuracy: 0.9889 - val_loss: 0.1674 - val_accuracy: 0.9516\n",
      "Epoch 16/20\n",
      "31/31 [==============================] - 34s 1s/step - loss: 0.0280 - accuracy: 0.9879 - val_loss: 0.2269 - val_accuracy: 0.9395\n",
      "Epoch 17/20\n",
      "31/31 [==============================] - 41s 1s/step - loss: 0.0277 - accuracy: 0.9919 - val_loss: 0.1817 - val_accuracy: 0.9476\n",
      "Epoch 18/20\n",
      "31/31 [==============================] - 42s 1s/step - loss: 0.0190 - accuracy: 0.9949 - val_loss: 0.2378 - val_accuracy: 0.9395\n",
      "Epoch 19/20\n",
      "31/31 [==============================] - 38s 1s/step - loss: 0.0161 - accuracy: 0.9960 - val_loss: 0.1655 - val_accuracy: 0.9677\n",
      "Epoch 20/20\n",
      "31/31 [==============================] - 45s 1s/step - loss: 0.0182 - accuracy: 0.9919 - val_loss: 0.1807 - val_accuracy: 0.9597\n"
     ]
    },
    {
     "data": {
      "text/plain": [
       "<tensorflow.python.keras.callbacks.History at 0x7fd6cb00da30>"
      ]
     },
     "execution_count": 72,
     "metadata": {},
     "output_type": "execute_result"
    }
   ],
   "source": [
    "model.fit(train_data, train_target, epochs = 20, validation_split = 0.2)"
   ]
  },
  {
   "cell_type": "code",
   "execution_count": 73,
   "metadata": {},
   "outputs": [
    {
     "name": "stdout",
     "output_type": "stream",
     "text": [
      "WARNING:tensorflow:From /Users/shubhamkumar/opt/anaconda3/lib/python3.8/site-packages/tensorflow/python/training/tracking/tracking.py:111: Model.state_updates (from tensorflow.python.keras.engine.training) is deprecated and will be removed in a future version.\n",
      "Instructions for updating:\n",
      "This property should not be used in TensorFlow 2.0, as updates are applied automatically.\n",
      "WARNING:tensorflow:From /Users/shubhamkumar/opt/anaconda3/lib/python3.8/site-packages/tensorflow/python/training/tracking/tracking.py:111: Layer.updates (from tensorflow.python.keras.engine.base_layer) is deprecated and will be removed in a future version.\n",
      "Instructions for updating:\n",
      "This property should not be used in TensorFlow 2.0, as updates are applied automatically.\n",
      "INFO:tensorflow:Assets written to: mask_detector/assets\n"
     ]
    }
   ],
   "source": [
    "model.save('mask_detector')"
   ]
  },
  {
   "cell_type": "markdown",
   "metadata": {},
   "source": [
    "Loading the saved Model and evaluating it. "
   ]
  },
  {
   "cell_type": "code",
   "execution_count": 40,
   "metadata": {
    "scrolled": true
   },
   "outputs": [
    {
     "name": "stdout",
     "output_type": "stream",
     "text": [
      "Model: \"sequential_2\"\n",
      "_________________________________________________________________\n",
      "Layer (type)                 Output Shape              Param #   \n",
      "=================================================================\n",
      "conv2d_4 (Conv2D)            (None, 98, 98, 200)       2000      \n",
      "_________________________________________________________________\n",
      "max_pooling2d_4 (MaxPooling2 (None, 49, 49, 200)       0         \n",
      "_________________________________________________________________\n",
      "conv2d_5 (Conv2D)            (None, 47, 47, 100)       180100    \n",
      "_________________________________________________________________\n",
      "max_pooling2d_5 (MaxPooling2 (None, 23, 23, 100)       0         \n",
      "_________________________________________________________________\n",
      "flatten_2 (Flatten)          (None, 52900)             0         \n",
      "_________________________________________________________________\n",
      "dropout_2 (Dropout)          (None, 52900)             0         \n",
      "_________________________________________________________________\n",
      "dense_4 (Dense)              (None, 50)                2645050   \n",
      "_________________________________________________________________\n",
      "dense_5 (Dense)              (None, 2)                 102       \n",
      "=================================================================\n",
      "Total params: 2,827,252\n",
      "Trainable params: 2,827,252\n",
      "Non-trainable params: 0\n",
      "_________________________________________________________________\n"
     ]
    }
   ],
   "source": [
    "from tensorflow import keras\n",
    "model = keras.models.load_model('mask_detector')\n",
    "model.summary()"
   ]
  },
  {
   "cell_type": "code",
   "execution_count": 43,
   "metadata": {
    "scrolled": true
   },
   "outputs": [
    {
     "name": "stdout",
     "output_type": "stream",
     "text": [
      "5/5 [==============================] - 1s 197ms/step - loss: 0.0467 - accuracy: 0.9855\n",
      "[0.04666541889309883, 0.9855072498321533]\n"
     ]
    }
   ],
   "source": [
    "print(model.evaluate(test_data, test_target))"
   ]
  },
  {
   "cell_type": "code",
   "execution_count": 44,
   "metadata": {},
   "outputs": [],
   "source": [
    "from keras.models import load_model\n",
    "import numpy as np\n",
    "\n",
    "face_cascader = cv2.CascadeClassifier(cv2.data.haarcascades + 'haarcascade_frontalface_default.xml')\n",
    "\n",
    "labels_dict = {0: \"WITH MASK\", 1: \"WITHOUT MASK\"}\n",
    "colors_dict = {0: (0, 255, 0), 1: (0, 0, 255)}"
   ]
  },
  {
   "cell_type": "code",
   "execution_count": 34,
   "metadata": {},
   "outputs": [
    {
     "name": "stdout",
     "output_type": "stream",
     "text": [
      "[[0.00808449 0.9919155 ]]\n",
      "1\n",
      "[[0.00225393 0.99774605]]\n",
      "1\n",
      "[[0.01219316 0.98780686]]\n",
      "1\n",
      "[[0.00166658 0.9983334 ]]\n",
      "1\n",
      "[[0.00586092 0.9941391 ]]\n",
      "1\n",
      "[[0.0014557  0.99854434]]\n",
      "1\n",
      "[[0.03183541 0.9681646 ]]\n",
      "1\n",
      "[[0.0103832 0.9896169]]\n",
      "1\n",
      "[[0.00111796 0.998882  ]]\n",
      "1\n",
      "[[0.81799746 0.18200253]]\n",
      "0\n",
      "[[0.00377858 0.9962214 ]]\n",
      "1\n",
      "[[0.00126779 0.99873215]]\n",
      "1\n",
      "[[0.7619998  0.23800023]]\n",
      "0\n",
      "[[0.01112781 0.98887223]]\n",
      "1\n",
      "[[0.34930164 0.65069836]]\n",
      "1\n",
      "[[0.00608415 0.99391586]]\n",
      "1\n",
      "[[0.8551751  0.14482492]]\n",
      "0\n",
      "[[0.00598186 0.9940182 ]]\n",
      "1\n",
      "[[0.66229266 0.3377073 ]]\n",
      "0\n",
      "[[7.4198405e-04 9.9925798e-01]]\n",
      "1\n",
      "[[0.0055652 0.9944348]]\n",
      "1\n",
      "[[0.5125313 0.4874687]]\n",
      "0\n",
      "[[0.00110428 0.99889565]]\n",
      "1\n",
      "[[0.03160603 0.9683939 ]]\n",
      "1\n",
      "[[0.00672277 0.99327725]]\n",
      "1\n",
      "[[0.6929403  0.30705965]]\n",
      "0\n",
      "[[0.00187317 0.9981268 ]]\n",
      "1\n",
      "[[0.72814983 0.27185017]]\n",
      "0\n",
      "[[0.0099378  0.99006224]]\n",
      "1\n",
      "[[0.00184098 0.998159  ]]\n",
      "1\n",
      "[[0.02514803 0.97485197]]\n",
      "1\n",
      "[[0.00218017 0.9978198 ]]\n",
      "1\n",
      "[[0.00166569 0.99833435]]\n",
      "1\n",
      "[[0.00805084 0.9919492 ]]\n",
      "1\n",
      "[[6.4234470e-04 9.9935764e-01]]\n",
      "1\n",
      "[[0.0090218  0.99097824]]\n",
      "1\n",
      "[[0.00329051 0.99670947]]\n",
      "1\n",
      "[[0.00185602 0.99814403]]\n",
      "1\n",
      "[[0.00186021 0.99813974]]\n",
      "1\n",
      "[[0.00232564 0.9976744 ]]\n",
      "1\n",
      "[[0.00233231 0.9976676 ]]\n",
      "1\n",
      "[[0.00618844 0.99381155]]\n",
      "1\n",
      "[[0.0037521  0.99624795]]\n",
      "1\n",
      "[[0.00206466 0.9979354 ]]\n",
      "1\n",
      "[[0.00801966 0.9919803 ]]\n",
      "1\n",
      "[[0.01679933 0.98320067]]\n",
      "1\n",
      "[[0.00617533 0.9938247 ]]\n",
      "1\n",
      "[[0.00165317 0.9983468 ]]\n",
      "1\n",
      "[[0.00326623 0.9967338 ]]\n",
      "1\n",
      "[[0.063715 0.936285]]\n",
      "1\n",
      "[[0.01215159 0.9878484 ]]\n",
      "1\n",
      "[[0.80903554 0.19096446]]\n",
      "0\n",
      "[[0.0103554  0.98964465]]\n",
      "1\n",
      "[[0.88174266 0.11825731]]\n",
      "0\n",
      "[[0.00736673 0.9926333 ]]\n",
      "1\n",
      "[[0.1368891  0.86311096]]\n",
      "1\n",
      "[[0.00403989 0.99596006]]\n",
      "1\n",
      "[[0.99612635 0.00387365]]\n",
      "0\n",
      "[[0.6162611  0.38373885]]\n",
      "0\n",
      "[[0.00977187 0.9902282 ]]\n",
      "1\n",
      "[[0.00840671 0.99159336]]\n",
      "1\n",
      "[[0.00356327 0.9964367 ]]\n",
      "1\n",
      "[[0.0080554 0.9919446]]\n",
      "1\n",
      "[[0.00733161 0.9926684 ]]\n",
      "1\n",
      "[[0.0090558  0.99094415]]\n",
      "1\n",
      "[[0.03601684 0.96398324]]\n",
      "1\n",
      "[[0.01195787 0.9880421 ]]\n",
      "1\n",
      "[[0.01320668 0.98679334]]\n",
      "1\n",
      "[[0.00316326 0.99683666]]\n",
      "1\n",
      "[[0.64917237 0.35082757]]\n",
      "0\n",
      "[[0.00276148 0.9972385 ]]\n",
      "1\n",
      "[[0.99735886 0.00264118]]\n",
      "0\n",
      "[[0.07706577 0.9229342 ]]\n",
      "1\n",
      "[[0.997969   0.00203096]]\n",
      "0\n",
      "[[0.61100495 0.388995  ]]\n",
      "0\n",
      "[[0.00792913 0.99207085]]\n",
      "1\n",
      "[[0.99825126 0.00174868]]\n",
      "0\n",
      "[[0.07373837 0.92626166]]\n",
      "1\n",
      "[[0.9975321  0.00246785]]\n",
      "0\n",
      "[[0.1113041  0.88869584]]\n",
      "1\n",
      "[[0.32132643 0.67867357]]\n",
      "1\n",
      "[[0.07827477 0.9217252 ]]\n",
      "1\n",
      "[[0.9972218  0.00277822]]\n",
      "0\n",
      "[[0.00457757 0.9954224 ]]\n",
      "1\n",
      "[[0.00390897 0.99609095]]\n",
      "1\n",
      "[[0.74428564 0.25571436]]\n",
      "0\n",
      "[[0.00223247 0.99776757]]\n",
      "1\n",
      "[[0.00255193 0.9974481 ]]\n",
      "1\n",
      "[[0.00949598 0.99050397]]\n",
      "1\n",
      "[[0.00184739 0.99815255]]\n",
      "1\n",
      "[[7.036056e-04 9.992964e-01]]\n",
      "1\n",
      "[[0.00498527 0.9950147 ]]\n",
      "1\n",
      "[[0.00204568 0.99795425]]\n",
      "1\n",
      "[[0.69268316 0.3073168 ]]\n",
      "0\n",
      "[[0.00369872 0.9963013 ]]\n",
      "1\n",
      "[[0.6963257  0.30367425]]\n",
      "0\n",
      "[[0.00845295 0.99154705]]\n",
      "1\n",
      "[[0.01105409 0.9889459 ]]\n",
      "1\n",
      "[[0.006488 0.993512]]\n",
      "1\n",
      "[[0.01695988 0.98304015]]\n",
      "1\n",
      "[[0.0049475 0.9950525]]\n",
      "1\n",
      "[[0.00697621 0.99302375]]\n",
      "1\n",
      "[[0.7378211 0.2621789]]\n",
      "0\n",
      "[[0.00539639 0.9946036 ]]\n",
      "1\n",
      "[[0.00379445 0.99620557]]\n",
      "1\n",
      "[[0.9978521  0.00214799]]\n",
      "0\n",
      "[[0.6390673  0.36093277]]\n",
      "0\n",
      "[[0.01316552 0.98683447]]\n",
      "1\n",
      "[[0.997832   0.00216799]]\n",
      "0\n",
      "[[0.00798555 0.9920144 ]]\n",
      "1\n",
      "[[0.99819237 0.00180763]]\n",
      "0\n",
      "[[0.00439931 0.9956007 ]]\n",
      "1\n",
      "[[0.99825853 0.0017415 ]]\n",
      "0\n",
      "[[0.00346185 0.99653816]]\n",
      "1\n",
      "[[0.9983777  0.00162225]]\n",
      "0\n",
      "[[0.00203848 0.9979615 ]]\n",
      "1\n",
      "[[0.99803644 0.00196354]]\n",
      "0\n",
      "[[0.00213918 0.99786085]]\n",
      "1\n",
      "[[0.99827075 0.00172923]]\n",
      "0\n",
      "[[0.00718426 0.99281573]]\n",
      "1\n",
      "[[0.99836916 0.00163086]]\n",
      "0\n",
      "[[0.003936 0.996064]]\n",
      "1\n",
      "[[0.9982399  0.00176008]]\n",
      "0\n",
      "[[0.8841744  0.11582563]]\n",
      "0\n",
      "[[0.0022555  0.99774456]]\n",
      "1\n",
      "[[0.99800295 0.00199707]]\n",
      "0\n",
      "[[0.00272641 0.9972736 ]]\n",
      "1\n",
      "[[0.00106619 0.99893385]]\n",
      "1\n",
      "[[0.9976025  0.00239745]]\n",
      "0\n",
      "[[0.00205953 0.9979405 ]]\n",
      "1\n",
      "[[0.998315   0.00168506]]\n",
      "0\n",
      "[[0.00151713 0.9984829 ]]\n",
      "1\n",
      "[[0.99809295 0.00190703]]\n",
      "0\n",
      "[[0.00158731 0.9984127 ]]\n",
      "1\n",
      "[[0.9980204  0.00197963]]\n",
      "0\n",
      "[[0.0296463 0.9703537]]\n",
      "1\n",
      "[[2.7436338e-04 9.9972564e-01]]\n",
      "1\n",
      "[[0.99730504 0.00269494]]\n",
      "0\n",
      "[[7.3413056e-04 9.9926585e-01]]\n",
      "1\n",
      "[[0.99675673 0.00324324]]\n",
      "0\n",
      "[[0.00350391 0.99649614]]\n",
      "1\n",
      "[[0.9952839  0.00471607]]\n",
      "0\n",
      "[[0.00245047 0.9975495 ]]\n",
      "1\n",
      "[[5.3096865e-04 9.9946910e-01]]\n",
      "1\n",
      "[[0.65103704 0.34896305]]\n",
      "0\n",
      "[[7.9010875e-04 9.9920988e-01]]\n",
      "1\n",
      "[[0.00709906 0.99290097]]\n",
      "1\n",
      "[[0.42468327 0.5753167 ]]\n",
      "1\n",
      "[[0.01592137 0.98407865]]\n",
      "1\n",
      "[[0.00939772 0.99060225]]\n",
      "1\n",
      "[[0.00824664 0.99175334]]\n",
      "1\n",
      "[[0.00997807 0.9900219 ]]\n",
      "1\n",
      "[[0.62826437 0.3717356 ]]\n",
      "0\n",
      "[[0.0051895  0.99481046]]\n",
      "1\n",
      "[[0.5870702  0.41292977]]\n",
      "0\n",
      "[[0.589877   0.41012293]]\n",
      "0\n",
      "[[0.5017422  0.49825773]]\n",
      "0\n"
     ]
    }
   ],
   "source": [
    "cap = cv2.VideoCapture(0)\n",
    "# cap = cv2.VideoCapture(\"/Users/shubhamkumar/Documents/Videos/stock_video_files/[4K] Young Man Putting on a Face Mask - FREE STOCK FOOTAGE - NO COPYRIGHT - FOOTAGE 4K.mp4\")\n",
    "# cap = cv2.VideoCapture(\"/Users/shubhamkumar/Documents/Videos/IMG_3032.MOV\")\n",
    "\n",
    "while(True):\n",
    "    _, img = cap.read()\n",
    "    gray_image = cv2.cvtColor(img, cv2.COLOR_BGR2GRAY)\n",
    "    faces = face_cascader.detectMultiScale(gray_image)\n",
    "\n",
    "    for (x, y, w, h) in faces:\n",
    "        face_img = gray_image[y: y+w, x: x+w]\n",
    "        resized = cv2.resize(face_img, (100, 100))\n",
    "        normalized = resized/255\n",
    "        reshaped = np.reshape(normalized, (1, 100, 100, 1))\n",
    "        result = model.predict(reshaped)\n",
    "#         print(len(result))\n",
    "        print(result)\n",
    "\n",
    "        label = np.argmax(result, axis=1)[0]\n",
    "        print(label)\n",
    "        text = labels_dict[label] + \": \" + str(label)\n",
    "        \n",
    "        cv2.rectangle(img, (x, y), (x+w, y+h), colors_dict[label], 2)\n",
    "        cv2.putText(img, text, (x+2, y-10), cv2.FONT_HERSHEY_SIMPLEX, 0.8, colors_dict[label], 2)\n",
    "        \n",
    "    cv2.imshow('MASK_DETECTOR', img)\n",
    "    key = cv2.waitKey(1)\n",
    "    \n",
    "    if key == 27:\n",
    "        break\n",
    "cv2.destroyAllWindows()\n",
    "cap.release()"
   ]
  },
  {
   "cell_type": "code",
   "execution_count": null,
   "metadata": {},
   "outputs": [],
   "source": []
  }
 ],
 "metadata": {
  "kernelspec": {
   "display_name": "Python 3",
   "language": "python",
   "name": "python3"
  },
  "language_info": {
   "codemirror_mode": {
    "name": "ipython",
    "version": 3
   },
   "file_extension": ".py",
   "mimetype": "text/x-python",
   "name": "python",
   "nbconvert_exporter": "python",
   "pygments_lexer": "ipython3",
   "version": "3.8.3"
  }
 },
 "nbformat": 4,
 "nbformat_minor": 4
}
